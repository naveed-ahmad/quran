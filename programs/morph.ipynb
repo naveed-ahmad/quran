{
 "cells": [
  {
   "cell_type": "code",
   "execution_count": 54,
   "metadata": {},
   "outputs": [],
   "source": [
    "import os\n",
    "import re\n",
    "from unicodedata import normalize\n",
    "from unicodedata import name as uname\n",
    "\n",
    "from IPython.display import display, HTML\n",
    "\n",
    "from tf.writing.transcription import Transcription as tr\n"
   ]
  },
  {
   "cell_type": "code",
   "execution_count": 55,
   "metadata": {},
   "outputs": [
    {
     "data": {
      "text/plain": [
       "'بِسْمِ'"
      ]
     },
     "execution_count": 55,
     "metadata": {},
     "output_type": "execute_result"
    }
   ],
   "source": [
    "tr.to_arabic(\"bisomi\")"
   ]
  },
  {
   "cell_type": "code",
   "execution_count": 56,
   "metadata": {},
   "outputs": [
    {
     "data": {
      "text/plain": [
       "'bisomi'"
      ]
     },
     "execution_count": 56,
     "metadata": {},
     "output_type": "execute_result"
    }
   ],
   "source": [
    "tr.from_arabic(\"بِسْمِ\")"
   ]
  },
  {
   "cell_type": "code",
   "execution_count": 19,
   "metadata": {},
   "outputs": [],
   "source": [
    "BASE = os.path.expanduser(\"~/github/q-ran/quran\")\n",
    "SOURCES = f\"{BASE}/sources\"\n",
    "WRITING = f\"{BASE}/writing\"\n",
    "MORPH_FILE = \"quranic-corpus-morphology-0.4.txt\"\n",
    "TEXT_FILE = \"quran-uthmani.xml\"\n",
    "MORPH_PATH = f\"{SOURCES}/{MORPH_FILE}\"\n",
    "TEXT_PATH = f\"{SOURCES}/{TEXT_FILE}\"\n",
    "TRANS_TABLE = f\"{WRITING}/table.html\""
   ]
  },
  {
   "cell_type": "code",
   "execution_count": 21,
   "metadata": {},
   "outputs": [],
   "source": [
    "suraPat = r\"<sura([^>]*)>(.*?)</sura>\"\n",
    "suraRe = re.compile(suraPat, re.S)\n",
    "\n",
    "attPat = r'index=\"([0-9]+)\"\\s+name=\"([^\"]+)\"'\n",
    "attRe = re.compile(attPat)\n",
    "\n",
    "ayaPat = r\"<aya([^>]*)/>\"\n",
    "ayaRe = re.compile(ayaPat, re.S)\n",
    "\n",
    "aattPat = r'index=\"([0-9]+)\"\\s+text=\"([^\"]+)\"'\n",
    "aattRe = re.compile(aattPat)\n",
    "\n",
    "battPat = r'bismillah=\"(.*)\"'\n",
    "battRe = re.compile(battPat)\n",
    "\n",
    "\n",
    "def uNorm(words):\n",
    "    return words\n",
    "    return [normalize(\"NFKC\", word) for word in words]\n",
    "\n",
    "\n",
    "def readText():\n",
    "    suraDb = {}\n",
    "    ayaDb = {}\n",
    "    with open(TEXT_PATH) as fh:\n",
    "        text = fh.read()\n",
    "    suras = suraRe.findall(text)\n",
    "    for (atts, content) in suras:\n",
    "        (suraIndex, name) = attRe.findall(atts)[0]\n",
    "        suraIndex = int(suraIndex)\n",
    "        suraDb[suraIndex] = dict(name=name)\n",
    "        ayas = ayaRe.findall(content)\n",
    "        for aya in ayas:\n",
    "            (ayaIndex, text) = aattRe.findall(aya)[0]\n",
    "            text = uNorm(text.split())\n",
    "            ayaIndex = int(ayaIndex)\n",
    "            data = dict(text=text)\n",
    "            bsl = battRe.findall(aya)\n",
    "            if bsl:\n",
    "                data[\"basmala\"] = uNorm(bsl[0].split())\n",
    "            ayaDb.setdefault(suraIndex, {})[ayaIndex] = data\n",
    "\n",
    "    return (suraDb, ayaDb)"
   ]
  },
  {
   "cell_type": "code",
   "execution_count": 22,
   "metadata": {},
   "outputs": [],
   "source": [
    "(suraDb, ayaDb) = readText()"
   ]
  },
  {
   "cell_type": "code",
   "execution_count": 23,
   "metadata": {},
   "outputs": [
    {
     "data": {
      "text/plain": [
       "{1: {'text': ['قُلْ', 'هُوَ', 'ٱللَّهُ', 'أَحَدٌ'],\n",
       "  'basmala': ['بِسْمِ', 'ٱللَّهِ', 'ٱلرَّحْمَٰنِ', 'ٱلرَّحِيمِ']},\n",
       " 2: {'text': ['ٱللَّهُ', 'ٱلصَّمَدُ']},\n",
       " 3: {'text': ['لَمْ', 'يَلِدْ', 'وَلَمْ', 'يُولَدْ']},\n",
       " 4: {'text': ['وَلَمْ', 'يَكُن', 'لَّهُۥ', 'كُفُوًا', 'أَحَدٌۢ']}}"
      ]
     },
     "execution_count": 23,
     "metadata": {},
     "output_type": "execute_result"
    }
   ],
   "source": [
    "ayaDb[112]"
   ]
  },
  {
   "cell_type": "code",
   "execution_count": 24,
   "metadata": {},
   "outputs": [],
   "source": [
    "def readMorph():\n",
    "    morphDb = {}\n",
    "\n",
    "    with open(MORPH_PATH) as fh:\n",
    "        inPrefix = True\n",
    "        dataLines = 0\n",
    "        for (i, line) in enumerate(fh):\n",
    "            if inPrefix:\n",
    "                if line.startswith(\"LOCATION\\t\"):\n",
    "                    inPrefix = False\n",
    "                    continue\n",
    "            else:\n",
    "                dataLines += 1\n",
    "                (locationRep, form, tag, features) = line.rstrip(\"\\n\").split(\"\\t\")\n",
    "                (suraIndex, ayaIndex, groupIndex, wordIndex) = (\n",
    "                    int(x) for x in locationRep[1:-1].split(\":\")\n",
    "                )\n",
    "                morphDb.setdefault(suraIndex, {}).setdefault(ayaIndex, {}).setdefault(\n",
    "                    groupIndex, {}\n",
    "                )[wordIndex] = (\n",
    "                    form,\n",
    "                    tag,\n",
    "                    features,\n",
    "                )\n",
    "        print(f\"{dataLines:>5} lines done\")\n",
    "    return morphDb"
   ]
  },
  {
   "cell_type": "code",
   "execution_count": 25,
   "metadata": {},
   "outputs": [
    {
     "name": "stdout",
     "output_type": "stream",
     "text": [
      "128219 lines done\n"
     ]
    }
   ],
   "source": [
    "morphDb = readMorph()"
   ]
  },
  {
   "cell_type": "code",
   "execution_count": 26,
   "metadata": {},
   "outputs": [],
   "source": [
    "keyTrans = dict(\n",
    "    LEM=\"lemma\",\n",
    ")\n",
    "\n",
    "valIndex = {\n",
    "    \"NOM\": ((\"case\", \"nominative\"),),\n",
    "    \"ACC\": ((\"case\", \"accusative\"),),\n",
    "    \"GEN\": ((\"case\", \"genitive\"),),\n",
    "    \"(II)\": ((\"form\", \"II\"),),\n",
    "    \"(III)\": ((\"form\", \"III\"),),\n",
    "    \"(IV)\": ((\"form\", \"IV\"),),\n",
    "    \"(IX)\": ((\"form\", \"IX\"),),\n",
    "    \"(V)\": ((\"form\", \"V\"),),\n",
    "    \"(VI)\": ((\"form\", \"VI\"),),\n",
    "    \"(VII)\": ((\"form\", \"VII\"),),\n",
    "    \"(VIII)\": ((\"form\", \"VIII\"),),\n",
    "    \"(X)\": ((\"form\", \"X\"),),\n",
    "    \"(XI)\": ((\"form\", \"XI\"),),\n",
    "    \"(XII)\": ((\"form\", \"XII\"),),\n",
    "    \"+VOC\": ((\"interjection\", \"allahuma\"),),\n",
    "    \"1P\": ((\"person\", \"1\"), (\"number\", \"p\")),\n",
    "    \"1S\": ((\"person\", \"1\"), (\"number\", \"s\")),\n",
    "    \"2D\": ((\"person\", \"2\"), (\"number\", \"d\")),\n",
    "    \"2FD\": ((\"person\", \"2\"), (\"number\", \"d\"), (\"gender\", \"f\")),\n",
    "    \"2FP\": ((\"person\", \"2\"), (\"number\", \"p\"), (\"gender\", \"f\")),\n",
    "    \"2FS\": ((\"person\", \"2\"), (\"number\", \"s\"), (\"gender\", \"f\")),\n",
    "    \"2MD\": ((\"person\", \"2\"), (\"number\", \"d\"), (\"gender\", \"m\")),\n",
    "    \"2MP\": ((\"person\", \"2\"), (\"number\", \"p\"), (\"gender\", \"m\")),\n",
    "    \"2MS\": ((\"person\", \"2\"), (\"number\", \"s\"), (\"gender\", \"m\")),\n",
    "    \"3D\": ((\"person\", \"3\"), (\"number\", \"d\")),\n",
    "    \"3FD\": ((\"person\", \"3\"), (\"number\", \"d\"), (\"gender\", \"f\")),\n",
    "    \"3FP\": ((\"person\", \"3\"), (\"number\", \"p\"), (\"gender\", \"f\")),\n",
    "    \"3FS\": ((\"person\", \"3\"), (\"number\", \"s\"), (\"gender\", \"f\")),\n",
    "    \"3MD\": ((\"person\", \"3\"), (\"number\", \"d\"), (\"gender\", \"m\")),\n",
    "    \"3MP\": ((\"person\", \"3\"), (\"number\", \"p\"), (\"gender\", \"m\")),\n",
    "    \"3MS\": ((\"person\", \"3\"), (\"number\", \"s\"), (\"gender\", \"m\")),\n",
    "    \"MD\": ((\"number\", \"d\"), (\"gender\", \"m\")),\n",
    "    \"MP\": ((\"number\", \"p\"), (\"gender\", \"m\")),\n",
    "    \"M\": ((\"gender\", \"m\"),),\n",
    "    \"MS\": ((\"gender\", \"m\"), (\"number\", \"s\")),\n",
    "    \"FD\": ((\"number\", \"d\"), (\"gender\", \"f\")),\n",
    "    \"FP\": ((\"number\", \"p\"), (\"gender\", \"f\")),\n",
    "    \"FS\": ((\"number\", \"s\"), (\"gender\", \"f\")),\n",
    "    \"F\": ((\"gender\", \"f\"),),\n",
    "    \"P\": ((\"number\", \"p\"),),\n",
    "    \"ACT\": ((\"voice\", \"active\"),),\n",
    "    \"PASS\": ((\"voice\", \"passive\"),),\n",
    "    \"IMPF\": ((\"tense\", \"imperfect\"),),\n",
    "    \"IMPV\": ((\"tense\", \"imperative\"),),\n",
    "    \"PERF\": ((\"tense\", \"perfect\"),),\n",
    "    \"PCPL\": ((\"tense\", \"participle\"),),\n",
    "    \"VN\": ((\"tense\", \"verbalNoun\"),),\n",
    "    \"INDEF\": ((\"definite\", 1),),\n",
    "    \"PREFIX\": ((\"component\", \"prefix\"),),\n",
    "    \"STEM\": ((\"component\", \"main\"),),\n",
    "    \"SUFFIX\": ((\"component\", \"suffix\"),),\n",
    "    \"Al+\": (),\n",
    "    \"bi+\": (),\n",
    "    \"ha+\": (),\n",
    "    \"ka+\": (),\n",
    "    \"sa+\": (),\n",
    "    \"ta+\": (),\n",
    "    \"ya+\": (),\n",
    "}\n",
    "\n",
    "\n",
    "def parseMorph(tag, featureStr):\n",
    "    features = dict(pos=tag.lower())\n",
    "    unknowns = set()\n",
    "    fItems = featureStr.split(\"|\")\n",
    "    for fItem in fItems:\n",
    "        if \":\" in fItem:\n",
    "            (key, value) = fItem.split(\":\", 1)\n",
    "            if key == \"POS\":\n",
    "                continue\n",
    "            keyRep = keyTrans.get(key, key.lower())\n",
    "            features[keyRep] = value\n",
    "        else:\n",
    "            value = fItem\n",
    "            keyValues = valIndex.get(value, None)\n",
    "            if keyValues is None:\n",
    "                unknowns.add(value)\n",
    "            else:\n",
    "                for (k, v) in keyValues:\n",
    "                    features[k] = v\n",
    "    return (features, unknowns)"
   ]
  },
  {
   "cell_type": "code",
   "execution_count": 27,
   "metadata": {
    "lines_to_end_of_cell_marker": 2,
    "lines_to_next_cell": 2
   },
   "outputs": [
    {
     "data": {
      "text/plain": [
       "0"
      ]
     },
     "execution_count": 27,
     "metadata": {},
     "output_type": "execute_result"
    }
   ],
   "source": [
    "wordFeatures = {}\n",
    "unknowns = set()\n",
    "\n",
    "for (sura, suraData) in morphDb.items():\n",
    "    for (aya, ayaData) in suraData.items():\n",
    "        for (group, groupData) in ayaData.items():\n",
    "            for (word, (form, tag, featureStr)) in groupData.items():\n",
    "                wordFeatures.setdefault(\"transcription\", {})[\n",
    "                    (sura, aya, group, word)\n",
    "                ] = form\n",
    "                (theseFeatures, theseUnknowns) = parseMorph(tag, featureStr)\n",
    "                for (k, v) in theseFeatures.items():\n",
    "                    wordFeatures.setdefault(k, {})[(sura, aya, group, word)] = v\n",
    "                unknowns |= theseUnknowns\n",
    "\n",
    "len(unknowns)"
   ]
  },
  {
   "cell_type": "code",
   "execution_count": 28,
   "metadata": {},
   "outputs": [],
   "source": [
    "def link(ayaDb, morphDb, limit):\n",
    "    i = 0\n",
    "    unequal = {}\n",
    "    transcription = {}\n",
    "    for sI in morphDb:\n",
    "        if limit is not None and i > limit:\n",
    "            break\n",
    "        for aI in morphDb[sI]:\n",
    "            if limit is not None and i > limit:\n",
    "                break\n",
    "            for gI in morphDb[sI][aI]:\n",
    "                if limit is not None and i > limit:\n",
    "                    break\n",
    "                tWordGroup = \"\"\n",
    "                for wI in morphDb[sI][aI][gI]:\n",
    "                    tWordGroup += morphDb[sI][aI][gI][wI][0]\n",
    "                aWordGroup = ayaDb[sI][aI][\"text\"][gI - 1]\n",
    "                if sI == 37 and aI == 130 and gI == 3:\n",
    "                    aWordGroup += f\" {ayaDb[sI][aI]['text'][gI]}\"\n",
    "                lA = len(aWordGroup)\n",
    "                lT = len(tWordGroup)\n",
    "                if lA != lT:\n",
    "                    unequal[(tWordGroup, aWordGroup)] = (sI, aI, gI)\n",
    "                else:\n",
    "                    for c in range(lT):\n",
    "                        transcription.setdefault(aWordGroup[c], set()).add(\n",
    "                            tWordGroup[c]\n",
    "                        )\n",
    "                i += 1\n",
    "    return (unequal, transcription, i)"
   ]
  },
  {
   "cell_type": "code",
   "execution_count": 29,
   "metadata": {},
   "outputs": [],
   "source": [
    "(unequal, transcription, i) = link(ayaDb, morphDb, None)"
   ]
  },
  {
   "cell_type": "code",
   "execution_count": 30,
   "metadata": {},
   "outputs": [
    {
     "data": {
      "text/plain": [
       "0"
      ]
     },
     "execution_count": 30,
     "metadata": {},
     "output_type": "execute_result"
    }
   ],
   "source": [
    "len(unequal)"
   ]
  },
  {
   "cell_type": "code",
   "execution_count": 31,
   "metadata": {},
   "outputs": [
    {
     "data": {
      "text/plain": [
       "{'ب': {'b'},\n",
       " 'ِ': {'i'},\n",
       " 'س': {'s'},\n",
       " 'ْ': {'o'},\n",
       " 'م': {'m'},\n",
       " 'ٱ': {'{'},\n",
       " 'ل': {'l'},\n",
       " 'ّ': {'~'},\n",
       " 'َ': {'a'},\n",
       " 'ه': {'h'},\n",
       " 'ر': {'r'},\n",
       " 'ح': {'H'},\n",
       " 'ٰ': {'`'},\n",
       " 'ن': {'n'},\n",
       " 'ي': {'y'},\n",
       " 'د': {'d'},\n",
       " 'ُ': {'u'},\n",
       " 'ع': {'E'},\n",
       " 'ك': {'k'},\n",
       " 'و': {'w'},\n",
       " 'إ': {'<'},\n",
       " 'ا': {'A'},\n",
       " 'ت': {'t'},\n",
       " 'ص': {'S'},\n",
       " 'ط': {'T'},\n",
       " 'ق': {'q'},\n",
       " 'ذ': {'*'},\n",
       " 'أ': {'>'},\n",
       " 'غ': {'g'},\n",
       " 'ض': {'D'},\n",
       " 'ٓ': {'^'},\n",
       " 'ف': {'f'},\n",
       " 'ً': {'F'},\n",
       " 'ى': {'Y'},\n",
       " 'ؤ': {'&'},\n",
       " 'ة': {'p'},\n",
       " 'ز': {'z'},\n",
       " 'ء': {\"'\"},\n",
       " 'خ': {'x'},\n",
       " '۟': {'@'},\n",
       " 'ئ': {'}'},\n",
       " 'ٌ': {'N'},\n",
       " 'ش': {'$'},\n",
       " 'ظ': {'Z'},\n",
       " 'ۢ': {'['},\n",
       " 'ج': {'j'},\n",
       " 'ث': {'v'},\n",
       " 'ۥ': {','},\n",
       " 'ٍ': {'K'},\n",
       " 'ۦ': {'.'},\n",
       " 'ـ': {'_'},\n",
       " 'ٔ': {'#'},\n",
       " 'ۭ': {']'},\n",
       " 'ۜ': {':'},\n",
       " '۠': {'\"'},\n",
       " '۪': {'-'},\n",
       " '۫': {'+'},\n",
       " 'ۨ': {'!'},\n",
       " ' ': {' '},\n",
       " '۬': {'%'},\n",
       " 'ۣ': {';'}}"
      ]
     },
     "execution_count": 31,
     "metadata": {},
     "output_type": "execute_result"
    }
   ],
   "source": [
    "transcription"
   ]
  },
  {
   "cell_type": "code",
   "execution_count": 50,
   "metadata": {},
   "outputs": [],
   "source": [
    "def makeTranscriptionTable(transcription):\n",
    "    errors = []\n",
    "    table = []\n",
    "    for a in sorted(transcription):\n",
    "        t = transcription[a]\n",
    "        if len(t) != 1:\n",
    "            errors.append(a)\n",
    "            continue\n",
    "        t = list(t)[0]\n",
    "        table.append((t, a, uname(a)))\n",
    "    if errors:\n",
    "        chars = \" - \".join(errors)\n",
    "        print(f\"There are {len(errors)} errors: {chars}\")\n",
    "    tableStr = \"\"\"\n",
    "  <table>\n",
    "    <tbody>\n",
    "\"\"\"\n",
    "    mappingStr = \"\"\"\n",
    "  arabic_mapping = {\"\"\"\n",
    "    for (t, a, unm) in table:\n",
    "        tableStr += f\"\"\"\n",
    "<tr><td class=\"t\">{t}</td><td class=\"g\">{a}</td><td class=\"p\"></td><td class=\"r\"></td><td class=\"n\">{unm}</td><td class=\"u\">{ord(a):04x}</td></tr>\"\"\"\n",
    "        qu = '\"' if t == \"'\" else \"'\"\n",
    "        mappingStr += f\"\"\"\n",
    "      {qu}{t}{qu}: \"\\\\u{ord(a):04x}\",  # {unm}\"\"\"\n",
    "    tableStr += \"\"\"\n",
    "    </tbody>\n",
    "  </table>\n",
    "\"\"\"\n",
    "    mappingStr += \"\"\"\n",
    "  }\n",
    "\"\"\"\n",
    "    return (tableStr, mappingStr)"
   ]
  },
  {
   "cell_type": "code",
   "execution_count": 51,
   "metadata": {},
   "outputs": [
    {
     "name": "stdout",
     "output_type": "stream",
     "text": [
      "\n",
      "  arabic_mapping = {\n",
      "      ' ': \"\\u0020\",  # SPACE\n",
      "      \"'\": \"\\u0621\",  # ARABIC LETTER HAMZA\n",
      "      '>': \"\\u0623\",  # ARABIC LETTER ALEF WITH HAMZA ABOVE\n",
      "      '&': \"\\u0624\",  # ARABIC LETTER WAW WITH HAMZA ABOVE\n",
      "      '<': \"\\u0625\",  # ARABIC LETTER ALEF WITH HAMZA BELOW\n",
      "      '}': \"\\u0626\",  # ARABIC LETTER YEH WITH HAMZA ABOVE\n",
      "      'A': \"\\u0627\",  # ARABIC LETTER ALEF\n",
      "      'b': \"\\u0628\",  # ARABIC LETTER BEH\n",
      "      'p': \"\\u0629\",  # ARABIC LETTER TEH MARBUTA\n",
      "      't': \"\\u062a\",  # ARABIC LETTER TEH\n",
      "      'v': \"\\u062b\",  # ARABIC LETTER THEH\n",
      "      'j': \"\\u062c\",  # ARABIC LETTER JEEM\n",
      "      'H': \"\\u062d\",  # ARABIC LETTER HAH\n",
      "      'x': \"\\u062e\",  # ARABIC LETTER KHAH\n",
      "      'd': \"\\u062f\",  # ARABIC LETTER DAL\n",
      "      '*': \"\\u0630\",  # ARABIC LETTER THAL\n",
      "      'r': \"\\u0631\",  # ARABIC LETTER REH\n",
      "      'z': \"\\u0632\",  # ARABIC LETTER ZAIN\n",
      "      's': \"\\u0633\",  # ARABIC LETTER SEEN\n",
      "      '$': \"\\u0634\",  # ARABIC LETTER SHEEN\n",
      "      'S': \"\\u0635\",  # ARABIC LETTER SAD\n",
      "      'D': \"\\u0636\",  # ARABIC LETTER DAD\n",
      "      'T': \"\\u0637\",  # ARABIC LETTER TAH\n",
      "      'Z': \"\\u0638\",  # ARABIC LETTER ZAH\n",
      "      'E': \"\\u0639\",  # ARABIC LETTER AIN\n",
      "      'g': \"\\u063a\",  # ARABIC LETTER GHAIN\n",
      "      '_': \"\\u0640\",  # ARABIC TATWEEL\n",
      "      'f': \"\\u0641\",  # ARABIC LETTER FEH\n",
      "      'q': \"\\u0642\",  # ARABIC LETTER QAF\n",
      "      'k': \"\\u0643\",  # ARABIC LETTER KAF\n",
      "      'l': \"\\u0644\",  # ARABIC LETTER LAM\n",
      "      'm': \"\\u0645\",  # ARABIC LETTER MEEM\n",
      "      'n': \"\\u0646\",  # ARABIC LETTER NOON\n",
      "      'h': \"\\u0647\",  # ARABIC LETTER HEH\n",
      "      'w': \"\\u0648\",  # ARABIC LETTER WAW\n",
      "      'Y': \"\\u0649\",  # ARABIC LETTER ALEF MAKSURA\n",
      "      'y': \"\\u064a\",  # ARABIC LETTER YEH\n",
      "      'F': \"\\u064b\",  # ARABIC FATHATAN\n",
      "      'N': \"\\u064c\",  # ARABIC DAMMATAN\n",
      "      'K': \"\\u064d\",  # ARABIC KASRATAN\n",
      "      'a': \"\\u064e\",  # ARABIC FATHA\n",
      "      'u': \"\\u064f\",  # ARABIC DAMMA\n",
      "      'i': \"\\u0650\",  # ARABIC KASRA\n",
      "      '~': \"\\u0651\",  # ARABIC SHADDA\n",
      "      'o': \"\\u0652\",  # ARABIC SUKUN\n",
      "      '^': \"\\u0653\",  # ARABIC MADDAH ABOVE\n",
      "      '#': \"\\u0654\",  # ARABIC HAMZA ABOVE\n",
      "      '`': \"\\u0670\",  # ARABIC LETTER SUPERSCRIPT ALEF\n",
      "      '{': \"\\u0671\",  # ARABIC LETTER ALEF WASLA\n",
      "      ':': \"\\u06dc\",  # ARABIC SMALL HIGH SEEN\n",
      "      '@': \"\\u06df\",  # ARABIC SMALL HIGH ROUNDED ZERO\n",
      "      '\"': \"\\u06e0\",  # ARABIC SMALL HIGH UPRIGHT RECTANGULAR ZERO\n",
      "      '[': \"\\u06e2\",  # ARABIC SMALL HIGH MEEM ISOLATED FORM\n",
      "      ';': \"\\u06e3\",  # ARABIC SMALL LOW SEEN\n",
      "      ',': \"\\u06e5\",  # ARABIC SMALL WAW\n",
      "      '.': \"\\u06e6\",  # ARABIC SMALL YEH\n",
      "      '!': \"\\u06e8\",  # ARABIC SMALL HIGH NOON\n",
      "      '-': \"\\u06ea\",  # ARABIC EMPTY CENTRE LOW STOP\n",
      "      '+': \"\\u06eb\",  # ARABIC EMPTY CENTRE HIGH STOP\n",
      "      '%': \"\\u06ec\",  # ARABIC ROUNDED HIGH STOP WITH FILLED CENTRE\n",
      "      ']': \"\\u06ed\",  # ARABIC SMALL LOW MEEM\n",
      "  }\n",
      "\n"
     ]
    }
   ],
   "source": [
    "print(makeTranscriptionTable(transcription)[1])"
   ]
  },
  {
   "cell_type": "code",
   "execution_count": 52,
   "metadata": {},
   "outputs": [
    {
     "name": "stdout",
     "output_type": "stream",
     "text": [
      "\n",
      "  <table>\n",
      "    <tbody>\n",
      "\n",
      "<tr><td class=\"t\"> </td><td class=\"g\"> </td><td class=\"p\"></td><td class=\"r\"></td><td class=\"n\">SPACE</td><td class=\"u\">0020</td></tr>\n",
      "<tr><td class=\"t\">'</td><td class=\"g\">ء</td><td class=\"p\"></td><td class=\"r\"></td><td class=\"n\">ARABIC LETTER HAMZA</td><td class=\"u\">0621</td></tr>\n",
      "<tr><td class=\"t\">></td><td class=\"g\">أ</td><td class=\"p\"></td><td class=\"r\"></td><td class=\"n\">ARABIC LETTER ALEF WITH HAMZA ABOVE</td><td class=\"u\">0623</td></tr>\n",
      "<tr><td class=\"t\">&</td><td class=\"g\">ؤ</td><td class=\"p\"></td><td class=\"r\"></td><td class=\"n\">ARABIC LETTER WAW WITH HAMZA ABOVE</td><td class=\"u\">0624</td></tr>\n",
      "<tr><td class=\"t\"><</td><td class=\"g\">إ</td><td class=\"p\"></td><td class=\"r\"></td><td class=\"n\">ARABIC LETTER ALEF WITH HAMZA BELOW</td><td class=\"u\">0625</td></tr>\n",
      "<tr><td class=\"t\">}</td><td class=\"g\">ئ</td><td class=\"p\"></td><td class=\"r\"></td><td class=\"n\">ARABIC LETTER YEH WITH HAMZA ABOVE</td><td class=\"u\">0626</td></tr>\n",
      "<tr><td class=\"t\">A</td><td class=\"g\">ا</td><td class=\"p\"></td><td class=\"r\"></td><td class=\"n\">ARABIC LETTER ALEF</td><td class=\"u\">0627</td></tr>\n",
      "<tr><td class=\"t\">b</td><td class=\"g\">ب</td><td class=\"p\"></td><td class=\"r\"></td><td class=\"n\">ARABIC LETTER BEH</td><td class=\"u\">0628</td></tr>\n",
      "<tr><td class=\"t\">p</td><td class=\"g\">ة</td><td class=\"p\"></td><td class=\"r\"></td><td class=\"n\">ARABIC LETTER TEH MARBUTA</td><td class=\"u\">0629</td></tr>\n",
      "<tr><td class=\"t\">t</td><td class=\"g\">ت</td><td class=\"p\"></td><td class=\"r\"></td><td class=\"n\">ARABIC LETTER TEH</td><td class=\"u\">062a</td></tr>\n",
      "<tr><td class=\"t\">v</td><td class=\"g\">ث</td><td class=\"p\"></td><td class=\"r\"></td><td class=\"n\">ARABIC LETTER THEH</td><td class=\"u\">062b</td></tr>\n",
      "<tr><td class=\"t\">j</td><td class=\"g\">ج</td><td class=\"p\"></td><td class=\"r\"></td><td class=\"n\">ARABIC LETTER JEEM</td><td class=\"u\">062c</td></tr>\n",
      "<tr><td class=\"t\">H</td><td class=\"g\">ح</td><td class=\"p\"></td><td class=\"r\"></td><td class=\"n\">ARABIC LETTER HAH</td><td class=\"u\">062d</td></tr>\n",
      "<tr><td class=\"t\">x</td><td class=\"g\">خ</td><td class=\"p\"></td><td class=\"r\"></td><td class=\"n\">ARABIC LETTER KHAH</td><td class=\"u\">062e</td></tr>\n",
      "<tr><td class=\"t\">d</td><td class=\"g\">د</td><td class=\"p\"></td><td class=\"r\"></td><td class=\"n\">ARABIC LETTER DAL</td><td class=\"u\">062f</td></tr>\n",
      "<tr><td class=\"t\">*</td><td class=\"g\">ذ</td><td class=\"p\"></td><td class=\"r\"></td><td class=\"n\">ARABIC LETTER THAL</td><td class=\"u\">0630</td></tr>\n",
      "<tr><td class=\"t\">r</td><td class=\"g\">ر</td><td class=\"p\"></td><td class=\"r\"></td><td class=\"n\">ARABIC LETTER REH</td><td class=\"u\">0631</td></tr>\n",
      "<tr><td class=\"t\">z</td><td class=\"g\">ز</td><td class=\"p\"></td><td class=\"r\"></td><td class=\"n\">ARABIC LETTER ZAIN</td><td class=\"u\">0632</td></tr>\n",
      "<tr><td class=\"t\">s</td><td class=\"g\">س</td><td class=\"p\"></td><td class=\"r\"></td><td class=\"n\">ARABIC LETTER SEEN</td><td class=\"u\">0633</td></tr>\n",
      "<tr><td class=\"t\">$</td><td class=\"g\">ش</td><td class=\"p\"></td><td class=\"r\"></td><td class=\"n\">ARABIC LETTER SHEEN</td><td class=\"u\">0634</td></tr>\n",
      "<tr><td class=\"t\">S</td><td class=\"g\">ص</td><td class=\"p\"></td><td class=\"r\"></td><td class=\"n\">ARABIC LETTER SAD</td><td class=\"u\">0635</td></tr>\n",
      "<tr><td class=\"t\">D</td><td class=\"g\">ض</td><td class=\"p\"></td><td class=\"r\"></td><td class=\"n\">ARABIC LETTER DAD</td><td class=\"u\">0636</td></tr>\n",
      "<tr><td class=\"t\">T</td><td class=\"g\">ط</td><td class=\"p\"></td><td class=\"r\"></td><td class=\"n\">ARABIC LETTER TAH</td><td class=\"u\">0637</td></tr>\n",
      "<tr><td class=\"t\">Z</td><td class=\"g\">ظ</td><td class=\"p\"></td><td class=\"r\"></td><td class=\"n\">ARABIC LETTER ZAH</td><td class=\"u\">0638</td></tr>\n",
      "<tr><td class=\"t\">E</td><td class=\"g\">ع</td><td class=\"p\"></td><td class=\"r\"></td><td class=\"n\">ARABIC LETTER AIN</td><td class=\"u\">0639</td></tr>\n",
      "<tr><td class=\"t\">g</td><td class=\"g\">غ</td><td class=\"p\"></td><td class=\"r\"></td><td class=\"n\">ARABIC LETTER GHAIN</td><td class=\"u\">063a</td></tr>\n",
      "<tr><td class=\"t\">_</td><td class=\"g\">ـ</td><td class=\"p\"></td><td class=\"r\"></td><td class=\"n\">ARABIC TATWEEL</td><td class=\"u\">0640</td></tr>\n",
      "<tr><td class=\"t\">f</td><td class=\"g\">ف</td><td class=\"p\"></td><td class=\"r\"></td><td class=\"n\">ARABIC LETTER FEH</td><td class=\"u\">0641</td></tr>\n",
      "<tr><td class=\"t\">q</td><td class=\"g\">ق</td><td class=\"p\"></td><td class=\"r\"></td><td class=\"n\">ARABIC LETTER QAF</td><td class=\"u\">0642</td></tr>\n",
      "<tr><td class=\"t\">k</td><td class=\"g\">ك</td><td class=\"p\"></td><td class=\"r\"></td><td class=\"n\">ARABIC LETTER KAF</td><td class=\"u\">0643</td></tr>\n",
      "<tr><td class=\"t\">l</td><td class=\"g\">ل</td><td class=\"p\"></td><td class=\"r\"></td><td class=\"n\">ARABIC LETTER LAM</td><td class=\"u\">0644</td></tr>\n",
      "<tr><td class=\"t\">m</td><td class=\"g\">م</td><td class=\"p\"></td><td class=\"r\"></td><td class=\"n\">ARABIC LETTER MEEM</td><td class=\"u\">0645</td></tr>\n",
      "<tr><td class=\"t\">n</td><td class=\"g\">ن</td><td class=\"p\"></td><td class=\"r\"></td><td class=\"n\">ARABIC LETTER NOON</td><td class=\"u\">0646</td></tr>\n",
      "<tr><td class=\"t\">h</td><td class=\"g\">ه</td><td class=\"p\"></td><td class=\"r\"></td><td class=\"n\">ARABIC LETTER HEH</td><td class=\"u\">0647</td></tr>\n",
      "<tr><td class=\"t\">w</td><td class=\"g\">و</td><td class=\"p\"></td><td class=\"r\"></td><td class=\"n\">ARABIC LETTER WAW</td><td class=\"u\">0648</td></tr>\n",
      "<tr><td class=\"t\">Y</td><td class=\"g\">ى</td><td class=\"p\"></td><td class=\"r\"></td><td class=\"n\">ARABIC LETTER ALEF MAKSURA</td><td class=\"u\">0649</td></tr>\n",
      "<tr><td class=\"t\">y</td><td class=\"g\">ي</td><td class=\"p\"></td><td class=\"r\"></td><td class=\"n\">ARABIC LETTER YEH</td><td class=\"u\">064a</td></tr>\n",
      "<tr><td class=\"t\">F</td><td class=\"g\">ً</td><td class=\"p\"></td><td class=\"r\"></td><td class=\"n\">ARABIC FATHATAN</td><td class=\"u\">064b</td></tr>\n",
      "<tr><td class=\"t\">N</td><td class=\"g\">ٌ</td><td class=\"p\"></td><td class=\"r\"></td><td class=\"n\">ARABIC DAMMATAN</td><td class=\"u\">064c</td></tr>\n",
      "<tr><td class=\"t\">K</td><td class=\"g\">ٍ</td><td class=\"p\"></td><td class=\"r\"></td><td class=\"n\">ARABIC KASRATAN</td><td class=\"u\">064d</td></tr>\n",
      "<tr><td class=\"t\">a</td><td class=\"g\">َ</td><td class=\"p\"></td><td class=\"r\"></td><td class=\"n\">ARABIC FATHA</td><td class=\"u\">064e</td></tr>\n",
      "<tr><td class=\"t\">u</td><td class=\"g\">ُ</td><td class=\"p\"></td><td class=\"r\"></td><td class=\"n\">ARABIC DAMMA</td><td class=\"u\">064f</td></tr>\n",
      "<tr><td class=\"t\">i</td><td class=\"g\">ِ</td><td class=\"p\"></td><td class=\"r\"></td><td class=\"n\">ARABIC KASRA</td><td class=\"u\">0650</td></tr>\n",
      "<tr><td class=\"t\">~</td><td class=\"g\">ّ</td><td class=\"p\"></td><td class=\"r\"></td><td class=\"n\">ARABIC SHADDA</td><td class=\"u\">0651</td></tr>\n",
      "<tr><td class=\"t\">o</td><td class=\"g\">ْ</td><td class=\"p\"></td><td class=\"r\"></td><td class=\"n\">ARABIC SUKUN</td><td class=\"u\">0652</td></tr>\n",
      "<tr><td class=\"t\">^</td><td class=\"g\">ٓ</td><td class=\"p\"></td><td class=\"r\"></td><td class=\"n\">ARABIC MADDAH ABOVE</td><td class=\"u\">0653</td></tr>\n",
      "<tr><td class=\"t\">#</td><td class=\"g\">ٔ</td><td class=\"p\"></td><td class=\"r\"></td><td class=\"n\">ARABIC HAMZA ABOVE</td><td class=\"u\">0654</td></tr>\n",
      "<tr><td class=\"t\">`</td><td class=\"g\">ٰ</td><td class=\"p\"></td><td class=\"r\"></td><td class=\"n\">ARABIC LETTER SUPERSCRIPT ALEF</td><td class=\"u\">0670</td></tr>\n",
      "<tr><td class=\"t\">{</td><td class=\"g\">ٱ</td><td class=\"p\"></td><td class=\"r\"></td><td class=\"n\">ARABIC LETTER ALEF WASLA</td><td class=\"u\">0671</td></tr>\n",
      "<tr><td class=\"t\">:</td><td class=\"g\">ۜ</td><td class=\"p\"></td><td class=\"r\"></td><td class=\"n\">ARABIC SMALL HIGH SEEN</td><td class=\"u\">06dc</td></tr>\n",
      "<tr><td class=\"t\">@</td><td class=\"g\">۟</td><td class=\"p\"></td><td class=\"r\"></td><td class=\"n\">ARABIC SMALL HIGH ROUNDED ZERO</td><td class=\"u\">06df</td></tr>\n",
      "<tr><td class=\"t\">\"</td><td class=\"g\">۠</td><td class=\"p\"></td><td class=\"r\"></td><td class=\"n\">ARABIC SMALL HIGH UPRIGHT RECTANGULAR ZERO</td><td class=\"u\">06e0</td></tr>\n",
      "<tr><td class=\"t\">[</td><td class=\"g\">ۢ</td><td class=\"p\"></td><td class=\"r\"></td><td class=\"n\">ARABIC SMALL HIGH MEEM ISOLATED FORM</td><td class=\"u\">06e2</td></tr>\n",
      "<tr><td class=\"t\">;</td><td class=\"g\">ۣ</td><td class=\"p\"></td><td class=\"r\"></td><td class=\"n\">ARABIC SMALL LOW SEEN</td><td class=\"u\">06e3</td></tr>\n",
      "<tr><td class=\"t\">,</td><td class=\"g\">ۥ</td><td class=\"p\"></td><td class=\"r\"></td><td class=\"n\">ARABIC SMALL WAW</td><td class=\"u\">06e5</td></tr>\n",
      "<tr><td class=\"t\">.</td><td class=\"g\">ۦ</td><td class=\"p\"></td><td class=\"r\"></td><td class=\"n\">ARABIC SMALL YEH</td><td class=\"u\">06e6</td></tr>\n",
      "<tr><td class=\"t\">!</td><td class=\"g\">ۨ</td><td class=\"p\"></td><td class=\"r\"></td><td class=\"n\">ARABIC SMALL HIGH NOON</td><td class=\"u\">06e8</td></tr>\n",
      "<tr><td class=\"t\">-</td><td class=\"g\">۪</td><td class=\"p\"></td><td class=\"r\"></td><td class=\"n\">ARABIC EMPTY CENTRE LOW STOP</td><td class=\"u\">06ea</td></tr>\n",
      "<tr><td class=\"t\">+</td><td class=\"g\">۫</td><td class=\"p\"></td><td class=\"r\"></td><td class=\"n\">ARABIC EMPTY CENTRE HIGH STOP</td><td class=\"u\">06eb</td></tr>\n",
      "<tr><td class=\"t\">%</td><td class=\"g\">۬</td><td class=\"p\"></td><td class=\"r\"></td><td class=\"n\">ARABIC ROUNDED HIGH STOP WITH FILLED CENTRE</td><td class=\"u\">06ec</td></tr>\n",
      "<tr><td class=\"t\">]</td><td class=\"g\">ۭ</td><td class=\"p\"></td><td class=\"r\"></td><td class=\"n\">ARABIC SMALL LOW MEEM</td><td class=\"u\">06ed</td></tr>\n",
      "    </tbody>\n",
      "  </table>\n",
      "\n"
     ]
    }
   ],
   "source": [
    "print(makeTranscriptionTable(transcription)[0])"
   ]
  },
  {
   "cell_type": "code",
   "execution_count": 47,
   "metadata": {},
   "outputs": [],
   "source": [
    "with open(TRANS_TABLE, \"w\") as fh:\n",
    "    fh.write(makeTranscriptionTable(transcription)[0])"
   ]
  },
  {
   "cell_type": "code",
   "execution_count": 48,
   "metadata": {},
   "outputs": [
    {
     "data": {
      "text/html": [
       "\n",
       "  <table>\n",
       "    <tbody>\n",
       "\n",
       "<tr><td class=\"t\"> </td><td class=\"g\"> </td><td class=\"p\"></td><td class=\"r\"></td><td class=\"n\">SPACE</td><td class=\"u\">0020</td></tr>\n",
       "\n",
       "<tr><td class=\"t\">'</td><td class=\"g\">ء</td><td class=\"p\"></td><td class=\"r\"></td><td class=\"n\">ARABIC LETTER HAMZA</td><td class=\"u\">0621</td></tr>\n",
       "\n",
       "<tr><td class=\"t\">></td><td class=\"g\">أ</td><td class=\"p\"></td><td class=\"r\"></td><td class=\"n\">ARABIC LETTER ALEF WITH HAMZA ABOVE</td><td class=\"u\">0623</td></tr>\n",
       "\n",
       "<tr><td class=\"t\">&</td><td class=\"g\">ؤ</td><td class=\"p\"></td><td class=\"r\"></td><td class=\"n\">ARABIC LETTER WAW WITH HAMZA ABOVE</td><td class=\"u\">0624</td></tr>\n",
       "\n",
       "<tr><td class=\"t\"><</td><td class=\"g\">إ</td><td class=\"p\"></td><td class=\"r\"></td><td class=\"n\">ARABIC LETTER ALEF WITH HAMZA BELOW</td><td class=\"u\">0625</td></tr>\n",
       "\n",
       "<tr><td class=\"t\">}</td><td class=\"g\">ئ</td><td class=\"p\"></td><td class=\"r\"></td><td class=\"n\">ARABIC LETTER YEH WITH HAMZA ABOVE</td><td class=\"u\">0626</td></tr>\n",
       "\n",
       "<tr><td class=\"t\">A</td><td class=\"g\">ا</td><td class=\"p\"></td><td class=\"r\"></td><td class=\"n\">ARABIC LETTER ALEF</td><td class=\"u\">0627</td></tr>\n",
       "\n",
       "<tr><td class=\"t\">b</td><td class=\"g\">ب</td><td class=\"p\"></td><td class=\"r\"></td><td class=\"n\">ARABIC LETTER BEH</td><td class=\"u\">0628</td></tr>\n",
       "\n",
       "<tr><td class=\"t\">p</td><td class=\"g\">ة</td><td class=\"p\"></td><td class=\"r\"></td><td class=\"n\">ARABIC LETTER TEH MARBUTA</td><td class=\"u\">0629</td></tr>\n",
       "\n",
       "<tr><td class=\"t\">t</td><td class=\"g\">ت</td><td class=\"p\"></td><td class=\"r\"></td><td class=\"n\">ARABIC LETTER TEH</td><td class=\"u\">062a</td></tr>\n",
       "\n",
       "<tr><td class=\"t\">v</td><td class=\"g\">ث</td><td class=\"p\"></td><td class=\"r\"></td><td class=\"n\">ARABIC LETTER THEH</td><td class=\"u\">062b</td></tr>\n",
       "\n",
       "<tr><td class=\"t\">j</td><td class=\"g\">ج</td><td class=\"p\"></td><td class=\"r\"></td><td class=\"n\">ARABIC LETTER JEEM</td><td class=\"u\">062c</td></tr>\n",
       "\n",
       "<tr><td class=\"t\">H</td><td class=\"g\">ح</td><td class=\"p\"></td><td class=\"r\"></td><td class=\"n\">ARABIC LETTER HAH</td><td class=\"u\">062d</td></tr>\n",
       "\n",
       "<tr><td class=\"t\">x</td><td class=\"g\">خ</td><td class=\"p\"></td><td class=\"r\"></td><td class=\"n\">ARABIC LETTER KHAH</td><td class=\"u\">062e</td></tr>\n",
       "\n",
       "<tr><td class=\"t\">d</td><td class=\"g\">د</td><td class=\"p\"></td><td class=\"r\"></td><td class=\"n\">ARABIC LETTER DAL</td><td class=\"u\">062f</td></tr>\n",
       "\n",
       "<tr><td class=\"t\">*</td><td class=\"g\">ذ</td><td class=\"p\"></td><td class=\"r\"></td><td class=\"n\">ARABIC LETTER THAL</td><td class=\"u\">0630</td></tr>\n",
       "\n",
       "<tr><td class=\"t\">r</td><td class=\"g\">ر</td><td class=\"p\"></td><td class=\"r\"></td><td class=\"n\">ARABIC LETTER REH</td><td class=\"u\">0631</td></tr>\n",
       "\n",
       "<tr><td class=\"t\">z</td><td class=\"g\">ز</td><td class=\"p\"></td><td class=\"r\"></td><td class=\"n\">ARABIC LETTER ZAIN</td><td class=\"u\">0632</td></tr>\n",
       "\n",
       "<tr><td class=\"t\">s</td><td class=\"g\">س</td><td class=\"p\"></td><td class=\"r\"></td><td class=\"n\">ARABIC LETTER SEEN</td><td class=\"u\">0633</td></tr>\n",
       "\n",
       "<tr><td class=\"t\">$</td><td class=\"g\">ش</td><td class=\"p\"></td><td class=\"r\"></td><td class=\"n\">ARABIC LETTER SHEEN</td><td class=\"u\">0634</td></tr>\n",
       "\n",
       "<tr><td class=\"t\">S</td><td class=\"g\">ص</td><td class=\"p\"></td><td class=\"r\"></td><td class=\"n\">ARABIC LETTER SAD</td><td class=\"u\">0635</td></tr>\n",
       "\n",
       "<tr><td class=\"t\">D</td><td class=\"g\">ض</td><td class=\"p\"></td><td class=\"r\"></td><td class=\"n\">ARABIC LETTER DAD</td><td class=\"u\">0636</td></tr>\n",
       "\n",
       "<tr><td class=\"t\">T</td><td class=\"g\">ط</td><td class=\"p\"></td><td class=\"r\"></td><td class=\"n\">ARABIC LETTER TAH</td><td class=\"u\">0637</td></tr>\n",
       "\n",
       "<tr><td class=\"t\">Z</td><td class=\"g\">ظ</td><td class=\"p\"></td><td class=\"r\"></td><td class=\"n\">ARABIC LETTER ZAH</td><td class=\"u\">0638</td></tr>\n",
       "\n",
       "<tr><td class=\"t\">E</td><td class=\"g\">ع</td><td class=\"p\"></td><td class=\"r\"></td><td class=\"n\">ARABIC LETTER AIN</td><td class=\"u\">0639</td></tr>\n",
       "\n",
       "<tr><td class=\"t\">g</td><td class=\"g\">غ</td><td class=\"p\"></td><td class=\"r\"></td><td class=\"n\">ARABIC LETTER GHAIN</td><td class=\"u\">063a</td></tr>\n",
       "\n",
       "<tr><td class=\"t\">_</td><td class=\"g\">ـ</td><td class=\"p\"></td><td class=\"r\"></td><td class=\"n\">ARABIC TATWEEL</td><td class=\"u\">0640</td></tr>\n",
       "\n",
       "<tr><td class=\"t\">f</td><td class=\"g\">ف</td><td class=\"p\"></td><td class=\"r\"></td><td class=\"n\">ARABIC LETTER FEH</td><td class=\"u\">0641</td></tr>\n",
       "\n",
       "<tr><td class=\"t\">q</td><td class=\"g\">ق</td><td class=\"p\"></td><td class=\"r\"></td><td class=\"n\">ARABIC LETTER QAF</td><td class=\"u\">0642</td></tr>\n",
       "\n",
       "<tr><td class=\"t\">k</td><td class=\"g\">ك</td><td class=\"p\"></td><td class=\"r\"></td><td class=\"n\">ARABIC LETTER KAF</td><td class=\"u\">0643</td></tr>\n",
       "\n",
       "<tr><td class=\"t\">l</td><td class=\"g\">ل</td><td class=\"p\"></td><td class=\"r\"></td><td class=\"n\">ARABIC LETTER LAM</td><td class=\"u\">0644</td></tr>\n",
       "\n",
       "<tr><td class=\"t\">m</td><td class=\"g\">م</td><td class=\"p\"></td><td class=\"r\"></td><td class=\"n\">ARABIC LETTER MEEM</td><td class=\"u\">0645</td></tr>\n",
       "\n",
       "<tr><td class=\"t\">n</td><td class=\"g\">ن</td><td class=\"p\"></td><td class=\"r\"></td><td class=\"n\">ARABIC LETTER NOON</td><td class=\"u\">0646</td></tr>\n",
       "\n",
       "<tr><td class=\"t\">h</td><td class=\"g\">ه</td><td class=\"p\"></td><td class=\"r\"></td><td class=\"n\">ARABIC LETTER HEH</td><td class=\"u\">0647</td></tr>\n",
       "\n",
       "<tr><td class=\"t\">w</td><td class=\"g\">و</td><td class=\"p\"></td><td class=\"r\"></td><td class=\"n\">ARABIC LETTER WAW</td><td class=\"u\">0648</td></tr>\n",
       "\n",
       "<tr><td class=\"t\">Y</td><td class=\"g\">ى</td><td class=\"p\"></td><td class=\"r\"></td><td class=\"n\">ARABIC LETTER ALEF MAKSURA</td><td class=\"u\">0649</td></tr>\n",
       "\n",
       "<tr><td class=\"t\">y</td><td class=\"g\">ي</td><td class=\"p\"></td><td class=\"r\"></td><td class=\"n\">ARABIC LETTER YEH</td><td class=\"u\">064a</td></tr>\n",
       "\n",
       "<tr><td class=\"t\">F</td><td class=\"g\">ً</td><td class=\"p\"></td><td class=\"r\"></td><td class=\"n\">ARABIC FATHATAN</td><td class=\"u\">064b</td></tr>\n",
       "\n",
       "<tr><td class=\"t\">N</td><td class=\"g\">ٌ</td><td class=\"p\"></td><td class=\"r\"></td><td class=\"n\">ARABIC DAMMATAN</td><td class=\"u\">064c</td></tr>\n",
       "\n",
       "<tr><td class=\"t\">K</td><td class=\"g\">ٍ</td><td class=\"p\"></td><td class=\"r\"></td><td class=\"n\">ARABIC KASRATAN</td><td class=\"u\">064d</td></tr>\n",
       "\n",
       "<tr><td class=\"t\">a</td><td class=\"g\">َ</td><td class=\"p\"></td><td class=\"r\"></td><td class=\"n\">ARABIC FATHA</td><td class=\"u\">064e</td></tr>\n",
       "\n",
       "<tr><td class=\"t\">u</td><td class=\"g\">ُ</td><td class=\"p\"></td><td class=\"r\"></td><td class=\"n\">ARABIC DAMMA</td><td class=\"u\">064f</td></tr>\n",
       "\n",
       "<tr><td class=\"t\">i</td><td class=\"g\">ِ</td><td class=\"p\"></td><td class=\"r\"></td><td class=\"n\">ARABIC KASRA</td><td class=\"u\">0650</td></tr>\n",
       "\n",
       "<tr><td class=\"t\">~</td><td class=\"g\">ّ</td><td class=\"p\"></td><td class=\"r\"></td><td class=\"n\">ARABIC SHADDA</td><td class=\"u\">0651</td></tr>\n",
       "\n",
       "<tr><td class=\"t\">o</td><td class=\"g\">ْ</td><td class=\"p\"></td><td class=\"r\"></td><td class=\"n\">ARABIC SUKUN</td><td class=\"u\">0652</td></tr>\n",
       "\n",
       "<tr><td class=\"t\">^</td><td class=\"g\">ٓ</td><td class=\"p\"></td><td class=\"r\"></td><td class=\"n\">ARABIC MADDAH ABOVE</td><td class=\"u\">0653</td></tr>\n",
       "\n",
       "<tr><td class=\"t\">#</td><td class=\"g\">ٔ</td><td class=\"p\"></td><td class=\"r\"></td><td class=\"n\">ARABIC HAMZA ABOVE</td><td class=\"u\">0654</td></tr>\n",
       "\n",
       "<tr><td class=\"t\">`</td><td class=\"g\">ٰ</td><td class=\"p\"></td><td class=\"r\"></td><td class=\"n\">ARABIC LETTER SUPERSCRIPT ALEF</td><td class=\"u\">0670</td></tr>\n",
       "\n",
       "<tr><td class=\"t\">{</td><td class=\"g\">ٱ</td><td class=\"p\"></td><td class=\"r\"></td><td class=\"n\">ARABIC LETTER ALEF WASLA</td><td class=\"u\">0671</td></tr>\n",
       "\n",
       "<tr><td class=\"t\">:</td><td class=\"g\">ۜ</td><td class=\"p\"></td><td class=\"r\"></td><td class=\"n\">ARABIC SMALL HIGH SEEN</td><td class=\"u\">06dc</td></tr>\n",
       "\n",
       "<tr><td class=\"t\">@</td><td class=\"g\">۟</td><td class=\"p\"></td><td class=\"r\"></td><td class=\"n\">ARABIC SMALL HIGH ROUNDED ZERO</td><td class=\"u\">06df</td></tr>\n",
       "\n",
       "<tr><td class=\"t\">\"</td><td class=\"g\">۠</td><td class=\"p\"></td><td class=\"r\"></td><td class=\"n\">ARABIC SMALL HIGH UPRIGHT RECTANGULAR ZERO</td><td class=\"u\">06e0</td></tr>\n",
       "\n",
       "<tr><td class=\"t\">[</td><td class=\"g\">ۢ</td><td class=\"p\"></td><td class=\"r\"></td><td class=\"n\">ARABIC SMALL HIGH MEEM ISOLATED FORM</td><td class=\"u\">06e2</td></tr>\n",
       "\n",
       "<tr><td class=\"t\">;</td><td class=\"g\">ۣ</td><td class=\"p\"></td><td class=\"r\"></td><td class=\"n\">ARABIC SMALL LOW SEEN</td><td class=\"u\">06e3</td></tr>\n",
       "\n",
       "<tr><td class=\"t\">,</td><td class=\"g\">ۥ</td><td class=\"p\"></td><td class=\"r\"></td><td class=\"n\">ARABIC SMALL WAW</td><td class=\"u\">06e5</td></tr>\n",
       "\n",
       "<tr><td class=\"t\">.</td><td class=\"g\">ۦ</td><td class=\"p\"></td><td class=\"r\"></td><td class=\"n\">ARABIC SMALL YEH</td><td class=\"u\">06e6</td></tr>\n",
       "\n",
       "<tr><td class=\"t\">!</td><td class=\"g\">ۨ</td><td class=\"p\"></td><td class=\"r\"></td><td class=\"n\">ARABIC SMALL HIGH NOON</td><td class=\"u\">06e8</td></tr>\n",
       "\n",
       "<tr><td class=\"t\">-</td><td class=\"g\">۪</td><td class=\"p\"></td><td class=\"r\"></td><td class=\"n\">ARABIC EMPTY CENTRE LOW STOP</td><td class=\"u\">06ea</td></tr>\n",
       "\n",
       "<tr><td class=\"t\">+</td><td class=\"g\">۫</td><td class=\"p\"></td><td class=\"r\"></td><td class=\"n\">ARABIC EMPTY CENTRE HIGH STOP</td><td class=\"u\">06eb</td></tr>\n",
       "\n",
       "<tr><td class=\"t\">%</td><td class=\"g\">۬</td><td class=\"p\"></td><td class=\"r\"></td><td class=\"n\">ARABIC ROUNDED HIGH STOP WITH FILLED CENTRE</td><td class=\"u\">06ec</td></tr>\n",
       "\n",
       "<tr><td class=\"t\">]</td><td class=\"g\">ۭ</td><td class=\"p\"></td><td class=\"r\"></td><td class=\"n\">ARABIC SMALL LOW MEEM</td><td class=\"u\">06ed</td></tr>\n",
       "\n",
       "    </tbody>\n",
       "  </table>\n"
      ],
      "text/plain": [
       "<IPython.core.display.HTML object>"
      ]
     },
     "metadata": {},
     "output_type": "display_data"
    }
   ],
   "source": [
    "display(HTML(makeTranscriptionTable(transcription)[0]))"
   ]
  },
  {
   "cell_type": "code",
   "execution_count": 73,
   "metadata": {},
   "outputs": [],
   "source": [
    "cases = sorted(unequal)"
   ]
  },
  {
   "cell_type": "code",
   "execution_count": 74,
   "metadata": {},
   "outputs": [],
   "source": [
    "def show(case):\n",
    "    (tW, aW) = cases[case]\n",
    "    print(tW, aW)\n",
    "    (sI, aI, gI) = unequal[(tW, aW)]\n",
    "    print(f\"sura {sI} aya {aI} word group {gI}\")\n",
    "    print(len(tW), len(aW))\n",
    "    print(list(tW))\n",
    "    print(\"\\n\".join(f\"{x} = {uname(x)}\" for x in aW))"
   ]
  },
  {
   "cell_type": "code",
   "execution_count": 75,
   "metadata": {},
   "outputs": [
    {
     "name": "stdout",
     "output_type": "stream",
     "text": [
      "<ilo yaAsiyna إِلْ\n",
      "sura 37 aya 130 word group 3\n",
      "13 4\n",
      "['<', 'i', 'l', 'o', ' ', 'y', 'a', 'A', 's', 'i', 'y', 'n', 'a']\n",
      "إ = ARABIC LETTER ALEF WITH HAMZA BELOW\n",
      "ِ = ARABIC KASRA\n",
      "ل = ARABIC LETTER LAM\n",
      "ْ = ARABIC SUKUN\n"
     ]
    }
   ],
   "source": [
    "show(0)"
   ]
  },
  {
   "cell_type": "code",
   "execution_count": 40,
   "metadata": {},
   "outputs": [
    {
     "name": "stdout",
     "output_type": "stream",
     "text": [
      "$i}ota شِئْتَ\n",
      "6 7\n",
      "['$', 'i', '}', 'o', 't', 'a']\n",
      "ش = ARABIC LETTER SHEEN\n",
      "ِ = ARABIC KASRA\n",
      "ي = ARABIC LETTER YEH\n",
      "ْ = ARABIC SUKUN\n",
      "ٔ = ARABIC HAMZA ABOVE\n",
      "ت = ARABIC LETTER TEH\n",
      "َ = ARABIC FATHA\n"
     ]
    }
   ],
   "source": [
    "show(10)"
   ]
  },
  {
   "cell_type": "code",
   "execution_count": 37,
   "metadata": {},
   "outputs": [
    {
     "name": "stdout",
     "output_type": "stream",
     "text": [
      "$a>onK != شَأْنٍ 1\n",
      "$a>onN != شَأْنٌ 1\n",
      "$a>onihimo != شَأْنِهِمْ 1\n",
      "$aAni}aka != شَانِئَكَ 1\n",
      "$aEaA^}iri != شَعَآئِرِ 1\n",
      "$aEa`^}ira != شَعَٰٓئِرَ 1\n",
      "$aEa`^}iri != شَعَٰٓئِرِ 1\n",
      "$a`Ti}i != شَٰطِئِ 1\n",
      "$amaA^}ilihimo != شَمَآئِلِهِمْ 1\n",
      "$i}onaA != شِئْنَا 1\n",
      "$i}ota != شِئْتَ 1\n",
      "$i}otum != شِئْتُم 1\n",
      "$i}otumaA != شِئْتُمَا 1\n",
      "$i}otumo != شِئْتُمْ 1\n",
      "$ufaEa`^&uA@ != شُفَعَٰٓؤُا۟ 1\n",
      "$ufaEa`^&unaA != شُفَعَٰٓؤُنَا 1\n",
      "$urakaA^&uhum != شُرَكَآؤُهُم 1\n",
      "$urakaA^&uhumo != شُرَكَآؤُهُمْ 1\n",
      "$urakaA^&ukumu != شُرَكَآؤُكُمُ 1\n",
      "$urakaA^&unaA != شُرَكَآؤُنَا 1\n"
     ]
    }
   ],
   "source": [
    "for (tG, aG) in cases[0:20]:\n",
    "    print(f\"{tG} != {aG} {len(unequal[(tG, aG)])}\")"
   ]
  }
 ],
 "metadata": {
  "jupytext": {
   "encoding": "# -*- coding: utf-8 -*-"
  },
  "kernelspec": {
   "display_name": "Python 3",
   "language": "python",
   "name": "python3"
  },
  "language_info": {
   "codemirror_mode": {
    "name": "ipython",
    "version": 3
   },
   "file_extension": ".py",
   "mimetype": "text/x-python",
   "name": "python",
   "nbconvert_exporter": "python",
   "pygments_lexer": "ipython3",
   "version": "3.7.1"
  }
 },
 "nbformat": 4,
 "nbformat_minor": 2
}
