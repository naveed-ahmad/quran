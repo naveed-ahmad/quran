{
 "cells": [
  {
   "cell_type": "code",
   "execution_count": 6,
   "metadata": {},
   "outputs": [
    {
     "name": "stdout",
     "output_type": "stream",
     "text": [
      "The autoreload extension is already loaded. To reload it, use:\n",
      "  %reload_ext autoreload\n"
     ]
    }
   ],
   "source": [
    "%load_ext autoreload\n",
    "%autoreload 2"
   ]
  },
  {
   "cell_type": "code",
   "execution_count": 7,
   "metadata": {},
   "outputs": [],
   "source": [
    "import os\n",
    "from tf.fabric import Fabric"
   ]
  },
  {
   "cell_type": "code",
   "execution_count": 8,
   "metadata": {},
   "outputs": [],
   "source": [
    "GH_BASE = os.path.expanduser('~/github')\n",
    "ORG = 'q-ran'\n",
    "REPO = 'quran'\n",
    "BASE = f'{GH_BASE}/{ORG}/{REPO}'\n",
    "SOURCES = f'{BASE}/sources'\n",
    "MORPH_FILE = 'quranic-corpus-morphology-0.4.txt'\n",
    "MORPH_PATH = f'{SOURCES}/{MORPH_FILE}'\n",
    "DATA_FILE = 'quran-data.xml'\n",
    "DATA_PATH = f'{SOURCES}/{DATA_FILE}'\n",
    "TF_PATH = f'{BASE}/tf'\n",
    "VERSION = '0.1'"
   ]
  },
  {
   "cell_type": "code",
   "execution_count": 9,
   "metadata": {},
   "outputs": [
    {
     "name": "stdout",
     "output_type": "stream",
     "text": [
      "This is Text-Fabric 7.3.6\n",
      "Api reference : https://annotation.github.io/text-fabric/Api/Fabric/\n",
      "\n",
      "38 features found and 0 ignored\n",
      "  0.00s loading features ...\n",
      "   |     0.01s B otype                from /Users/dirk/github/q-ran/quran/tf/0.1\n",
      "   |     0.11s B oslots               from /Users/dirk/github/q-ran/quran/tf/0.1\n",
      "   |     0.03s B number               from /Users/dirk/github/q-ran/quran/tf/0.1\n",
      "   |     0.03s B ascii                from /Users/dirk/github/q-ran/quran/tf/0.1\n",
      "   |     0.02s B lemma                from /Users/dirk/github/q-ran/quran/tf/0.1\n",
      "   |     0.01s B root                 from /Users/dirk/github/q-ran/quran/tf/0.1\n",
      "   |     0.00s B space                from /Users/dirk/github/q-ran/quran/tf/0.1\n",
      "   |     0.05s B unicode              from /Users/dirk/github/q-ran/quran/tf/0.1\n",
      "   |     0.00s B a                    from /Users/dirk/github/q-ran/quran/tf/0.1\n",
      "   |     0.00s B ax                   from /Users/dirk/github/q-ran/quran/tf/0.1\n",
      "   |     0.01s B case                 from /Users/dirk/github/q-ran/quran/tf/0.1\n",
      "   |     0.03s B component            from /Users/dirk/github/q-ran/quran/tf/0.1\n",
      "   |     0.00s B definite             from /Users/dirk/github/q-ran/quran/tf/0.1\n",
      "   |     0.00s B f                    from /Users/dirk/github/q-ran/quran/tf/0.1\n",
      "   |     0.00s B formation            from /Users/dirk/github/q-ran/quran/tf/0.1\n",
      "   |     0.00s B fx                   from /Users/dirk/github/q-ran/quran/tf/0.1\n",
      "   |     0.01s B gn                   from /Users/dirk/github/q-ran/quran/tf/0.1\n",
      "   |     0.00s B interjection         from /Users/dirk/github/q-ran/quran/tf/0.1\n",
      "   |     0.00s B l                    from /Users/dirk/github/q-ran/quran/tf/0.1\n",
      "   |     0.00s B lx                   from /Users/dirk/github/q-ran/quran/tf/0.1\n",
      "   |     0.00s B mood                 from /Users/dirk/github/q-ran/quran/tf/0.1\n",
      "   |     0.00s B n                    from /Users/dirk/github/q-ran/quran/tf/0.1\n",
      "   |     0.00s B name                 from /Users/dirk/github/q-ran/quran/tf/0.1\n",
      "   |     0.00s B name@en              from /Users/dirk/github/q-ran/quran/tf/0.1\n",
      "   |     0.00s B nameAscii            from /Users/dirk/github/q-ran/quran/tf/0.1\n",
      "   |     0.00s B nameTrans            from /Users/dirk/github/q-ran/quran/tf/0.1\n",
      "   |     0.01s B nu                   from /Users/dirk/github/q-ran/quran/tf/0.1\n",
      "   |     0.00s B order                from /Users/dirk/github/q-ran/quran/tf/0.1\n",
      "   |     0.04s B pos                  from /Users/dirk/github/q-ran/quran/tf/0.1\n",
      "   |     0.02s B posx                 from /Users/dirk/github/q-ran/quran/tf/0.1\n",
      "   |     0.01s B ps                   from /Users/dirk/github/q-ran/quran/tf/0.1\n",
      "   |     0.00s B sp                   from /Users/dirk/github/q-ran/quran/tf/0.1\n",
      "   |     0.01s B tense                from /Users/dirk/github/q-ran/quran/tf/0.1\n",
      "   |     0.00s B type                 from /Users/dirk/github/q-ran/quran/tf/0.1\n",
      "   |     0.00s B voice                from /Users/dirk/github/q-ran/quran/tf/0.1\n",
      "   |     0.00s B w                    from /Users/dirk/github/q-ran/quran/tf/0.1\n",
      "   |     0.00s B wx                   from /Users/dirk/github/q-ran/quran/tf/0.1\n",
      "  0.81s All features loaded/computed - for details use loadLog()\n"
     ]
    },
    {
     "data": {
      "text/plain": [
       "[('Computed',\n",
       "  'computed-data',\n",
       "  ('C Computed', 'Call AllComputeds', 'Cs ComputedString')),\n",
       " ('Features', 'edge-features', ('E Edge', 'Eall AllEdges', 'Es EdgeString')),\n",
       " ('Fabric', 'loading', ('ensureLoaded', 'TF', 'ignored', 'loadLog')),\n",
       " ('Locality', 'locality', ('L Locality',)),\n",
       " ('Misc', 'messaging', ('cache', 'error', 'indent', 'info', 'reset')),\n",
       " ('Nodes',\n",
       "  'navigating-nodes',\n",
       "  ('N Nodes', 'sortKey', 'sortKeyTuple', 'otypeRank', 'sortNodes')),\n",
       " ('Features',\n",
       "  'node-features',\n",
       "  ('F Feature', 'Fall AllFeatures', 'Fs FeatureString')),\n",
       " ('Search', 'search', ('S Search',)),\n",
       " ('Text', 'text', ('T Text',))]"
      ]
     },
     "execution_count": 9,
     "metadata": {},
     "output_type": "execute_result"
    }
   ],
   "source": [
    "# TF = Fabric(locations=[f'{TF_PATH}/{VERSION}'])\n",
    "TF = Fabric(locations=[TF_PATH], modules=[VERSION], silent=False)\n",
    "allFeatures = TF.explore(silent=True, show=True)\n",
    "loadableFeatures = allFeatures['nodes'] + allFeatures['edges']\n",
    "api = TF.load(loadableFeatures, silent=False)\n",
    "api.makeAvailableIn(globals())"
   ]
  },
  {
   "cell_type": "code",
   "execution_count": 10,
   "metadata": {},
   "outputs": [
    {
     "data": {
      "text/plain": [
       "(211885, 205649)"
      ]
     },
     "execution_count": 10,
     "metadata": {},
     "output_type": "execute_result"
    }
   ],
   "source": [
    "n = 3\n",
    "T.sectionTuple(n)"
   ]
  },
  {
   "cell_type": "code",
   "execution_count": 11,
   "metadata": {},
   "outputs": [],
   "source": [
    "s = F.otype.s('sura')[1]\n",
    "a = F.otype.s('aya')[100]"
   ]
  },
  {
   "cell_type": "code",
   "execution_count": 12,
   "metadata": {},
   "outputs": [
    {
     "data": {
      "text/plain": [
       "(211886, 205656)"
      ]
     },
     "execution_count": 12,
     "metadata": {},
     "output_type": "execute_result"
    }
   ],
   "source": [
    "T.sectionTuple(s, fillup=True)"
   ]
  },
  {
   "cell_type": "code",
   "execution_count": 13,
   "metadata": {},
   "outputs": [
    {
     "data": {
      "text/plain": [
       "(211886, 205749)"
      ]
     },
     "execution_count": 13,
     "metadata": {},
     "output_type": "execute_result"
    }
   ],
   "source": [
    "T.sectionTuple(a, fillup=False)"
   ]
  },
  {
   "cell_type": "code",
   "execution_count": 14,
   "metadata": {},
   "outputs": [
    {
     "data": {
      "text/plain": [
       "(1, 1)"
      ]
     },
     "execution_count": 14,
     "metadata": {},
     "output_type": "execute_result"
    }
   ],
   "source": [
    "T.sectionFromNode(n)"
   ]
  },
  {
   "cell_type": "code",
   "execution_count": 15,
   "metadata": {},
   "outputs": [
    {
     "data": {
      "text/plain": [
       "(2, 1)"
      ]
     },
     "execution_count": 15,
     "metadata": {},
     "output_type": "execute_result"
    }
   ],
   "source": [
    "T.sectionFromNode(s, fillup=True)"
   ]
  },
  {
   "cell_type": "code",
   "execution_count": 16,
   "metadata": {},
   "outputs": [
    {
     "data": {
      "text/plain": [
       "(2, 94)"
      ]
     },
     "execution_count": 16,
     "metadata": {},
     "output_type": "execute_result"
    }
   ],
   "source": [
    "T.sectionFromNode(a)"
   ]
  },
  {
   "cell_type": "code",
   "execution_count": 17,
   "metadata": {},
   "outputs": [
    {
     "data": {
      "text/plain": [
       "'sura'"
      ]
     },
     "execution_count": 17,
     "metadata": {},
     "output_type": "execute_result"
    }
   ],
   "source": [
    "F.otype.v(s)"
   ]
  },
  {
   "cell_type": "code",
   "execution_count": 18,
   "metadata": {},
   "outputs": [
    {
     "data": {
      "text/plain": [
       "217756"
      ]
     },
     "execution_count": 18,
     "metadata": {},
     "output_type": "execute_result"
    }
   ],
   "source": [
    "max(T.sectionFeatures[0].keys())"
   ]
  },
  {
   "cell_type": "code",
   "execution_count": 19,
   "metadata": {},
   "outputs": [
    {
     "data": {
      "text/plain": [
       "211886"
      ]
     },
     "execution_count": 19,
     "metadata": {},
     "output_type": "execute_result"
    }
   ],
   "source": [
    "T.nodeFromSection((2,))"
   ]
  },
  {
   "cell_type": "code",
   "execution_count": null,
   "metadata": {},
   "outputs": [],
   "source": []
  }
 ],
 "metadata": {
  "kernelspec": {
   "display_name": "Python 3",
   "language": "python",
   "name": "python3"
  },
  "language_info": {
   "codemirror_mode": {
    "name": "ipython",
    "version": 3
   },
   "file_extension": ".py",
   "mimetype": "text/x-python",
   "name": "python",
   "nbconvert_exporter": "python",
   "pygments_lexer": "ipython3",
   "version": "3.7.1"
  }
 },
 "nbformat": 4,
 "nbformat_minor": 2
}
